# Import required libraries
import subprocess
import time

# Function to start SITL
def start_sitl():
    print("Starting SITL...")
    sitl_process = subprocess.Popen(
        [
            "sim_vehicle.py",  # Script to start the SITL
            "-v", "ArduPlane",  # Specify the vehicle type (e.g., Plane)
            "--console",       # Optional: open MAVProxy console
            "--map"            # Optional: open map interface
        ],
        cwd="/workspaces/ardupilot/Tools/autotest",  # Path to ArduPilot's SITL tools
    )
    time.sleep(10)  # Allow SITL to initialize
    print("SITL started!")
    return sitl_process

# Function to stop SITL
def stop_sitl(sitl_process):
    print("Stopping SITL...")
    sitl_process.terminate()
    sitl_process.wait()
    print("SITL stopped.")

# Start SITL
sitl_process = start_sitl()

# Add your MAVLink commands here, e.g., setting waypoints or controlling the drone
# For example: Sending a takeoff command

print("Simulation is running...")

# Stop SITL after a delay (for demonstration)
time.sleep(30)
stop_sitl(sitl_process)
